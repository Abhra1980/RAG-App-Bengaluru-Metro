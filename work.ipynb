{
 "cells": [
  {
   "cell_type": "code",
   "execution_count": 1,
   "id": "a724e55d",
   "metadata": {},
   "outputs": [],
   "source": [
    "import os\n",
    "os.environ[\"EURI_API_KEY\"] = \"euri-e4ac18a3dd84d7880024dceca11b980a88964d6e7faa2ed7c854d0ab6fea2bfd\""
   ]
  },
  {
   "cell_type": "code",
   "execution_count": 2,
   "id": "985fcdae",
   "metadata": {},
   "outputs": [],
   "source": [
    "# ================================\n",
    "# Namma Metro RAG Demo (with 50% cutoff message)\n",
    "# ================================\n",
    "# REQUIREMENTS:\n",
    "#   pip install pandas numpy nltk requests faiss-cpu\n",
    "#\n",
    "# IMPORTANT: Do NOT hardcode your key in code.\n",
    "#   import os; os.environ[\"EURI_API_KEY\"] = \"YOUR_KEY\"\n",
    "# ================================\n",
    "\n",
    "import os\n",
    "import json\n",
    "import re\n",
    "import string\n",
    "import unicodedata\n",
    "from typing import List, Dict, Tuple, Any\n",
    "\n",
    "import pandas as pd\n",
    "import numpy as np\n",
    "import requests\n",
    "\n",
    "# --- Read API key from env (preferred). ---\n",
    "EURI_API_KEY = os.getenv(\"EURI_API_KEY\", \"\")\n",
    "if not EURI_API_KEY:\n",
    "    raise ValueError(\"EURI_API_KEY environment variable not set. Please set it to your API key.\")\n"
   ]
  },
  {
   "cell_type": "code",
   "execution_count": null,
   "id": "80f1deef",
   "metadata": {},
   "outputs": [],
   "source": [
    "# -----------------------------\n",
    "# 1) Dataset (original text)\n",
    "# -----------------------------\n",
    "import os\n",
    "dir_path = \"C:\\Data Science\\Assignments\\Final\\metro_rag_application\\data\"\n",
    "file_path = os.path.join(dir_path, \"dataset.txt\")\n",
    "\n",
    "with open(file_path, \"r\", encoding=\"utf-8\") as f:\n",
    "    dataset = f.read()"
   ]
  },
  {
   "cell_type": "code",
   "execution_count": null,
   "id": "de08e19a",
   "metadata": {},
   "outputs": [],
   "source": [
    "\n",
    "dataset = \"\"\"Namma Metro: Expanding Horizons and Navigating Challenges\n",
    "1. A Heroic Moment—Fire Averted at Hebbagodi\n",
    "\n",
    "On the night of August 23, 2025, a crisis was averted at the newly inaugurated Hebbagodi Metro station on the Yellow Line. Around 11:50 PM, a car stalled beneath the elevated station on the waterlogged Hosur Road. Smoke began billowing from the engine bay—a potential fire hazard. That’s when Shivakumar, the on-duty security guard, sprang into action. He grabbed a fire extinguisher from inside the station and swiftly doused the flames, likely caused by a short circuit. His quick response prevented damage to metro infrastructure and avoided additional traffic disruption. Officials praised the effectiveness of routine fire safety training in empowering such timely action. \n",
    "Hindustan Times\n",
    "This incident underscores the vulnerability of metro infrastructure to external hazards and highlights how preparedness and vigilance—especially at newly operational stations—are crucial in maintaining safety.\n",
    "\n",
    "2. Managing Crush: Barricades at RV Road Station\n",
    "\n",
    "The opening of the Yellow Line has significantly boosted ridership, particularly at RV Road interchange, where passengers transfer to the Green Line or head toward Electronics City. The daily interchange volume has surged to an estimated 30,000–35,000 passengers. To manage the resulting crowding, BMRCL has installed barricades—marking the first time such measures have been installed on an elevated station (previously only at the underground Majestic interchange). \n",
    "Currently, Yellow Line services run every 25 minutes with three trains, but a fourth train set is expected by mid-September after assembly and testing—anticipated to reduce headways to around 20 minutes. \n",
    "3. Yellow Line Extension Study to Attibele\n",
    "\n",
    "Connectivity continues to be a priority. The Karnataka government, led by Deputy CM D.K. Shivakumar, has commissioned a feasibility study to explore extending the Yellow Line beyond Bommasandra to Attibele, spanning over 10 km. This expansion is aimed at reducing congestion along Hosur Road and supporting proposed infrastructure developments, including a new stadium project in Attibele. \n",
    "The study has been entrusted to Hyderabad-based RV Associates, tasked with preparing a Detailed Project Report (DPR) that evaluates costs, benefits, and technical feasibility. \n",
    "4. Phase 3 Expansion: Environmental Challenges Delay Progress\n",
    "Meanwhile, Phase 3 of the metro expansion, encompassing a 44-km fully elevated network split between corridors from JP Nagar 4th Phase to Kempapura and Hosahalli to Kadabagere, has hit a regulatory roadblock. The Environmental Impact Assessment (EIA) report has been delayed, as the initial round of public stakeholder meetings saw low turnout. This necessitated additional public consultation and pushed back both the EIA and the final DPR. \n",
    "Tree impact estimates have shifted—from an initial upper bound of 11,000 trees to a revised count of around 6,000, though the final figure remains pending the completed EIA. The BMRCL has committed to tree transplantation or sapling replantation, though clarity is required about replantation locations. Critics note that proposed replantation in areas like Kolar, far from impacted zones, may not align with ecological restoration goals. \n",
    "The Times of India\n",
    "5. Early Morning Yellow Line Boost on August 18\n",
    "\n",
    "To manage the surge of commuters following a long Independence Day weekend, BMRCL advanced Yellow Line train services to start at 5 AM on August 18, instead of the regular 6:30 AM schedule. The early service began from both RV Road and Delta Electronics Bommasandra stations. This adjustment was temporary for that Monday; normal timings resumed by Tuesday thereafter. \n",
    "Such responsiveness signals the operational flexibility BMRCL is building into its service planning to adapt to commuter patterns.\n",
    "6. A Game-Changer: Yellow Line Inaugurated\n",
    "The much-anticipated Yellow Line, stretching 19.15 kilometers between RV Road and Bommasandra, officially opened to the public in early August 2025, with Prime Minister Narendra Modi inaugurating the service. \n",
    "Constructed at a cost of approximately ₹7,160–7,610 crore, this elevated corridor features 16 stations and aims to support up to 800,000 daily commuters. \n",
    "The Economic Times\n",
    " The line traverses key junctions including Jayadeva, BTM Layout, Central Silk Board, and Bommasandra, significantly enhancing connectivity to important residential, commercial, and industrial zones. \n",
    "The introduction of the Yellow Line complements existing network routes, enabling faster, more seamless interchanges and contributing to overall network efficiency. Commuters are expected to enjoy improved convenience, travel speed, and comfort. \n",
    "The Economic Times\n",
    "7. Last-Mile Concerns: Double-Decker Flyover Funding Tussle\n",
    "While the Yellow Line has been a massive lift for metro connectivity, financial hurdles persist. BMRCL is still awaiting ₹450 crore in reimbursement from the state government, promised back in 2017–18, to cover costs associated with a double-decker flyover between Ragigudda and Central Silk Board. A 5 km section of this flyover opened in July 2024, but the reimbursement is still pending. \n",
    "The Times of India\n",
    "The state government is now pushing forward with plans for another 45 km of double-decker flyovers under Phase 3—budgeted at ₹15,611 crore, with roughly ₹9,000 crore allocated for road flyover construction. Deputy CM D.K. Shivakumar has sought ₹8,916 crore in central funding. However, urban planners warn that such flyovers might encourage private vehicle usage, undermining public transportation goals. \n",
    "Broader Context: Namma Metro at a Glance\n",
    "As of August 2025, Namma Metro spans roughly 96 km, serving 83–85 operational stations (estimates vary slightly across sources). It transports around 762,361 average passengers daily (data from July 2024), with a single-day record of 1,048,031 riders set on August 11, 2025, just after Yellow Line became operational. \n",
    "Wikipedia\n",
    "Ongoing and Future Lines\n",
    "Pink Line: A 21.25 km route from Kalena Agrahara to Nagawara, including a 7.5 km elevated section (to open by March 2026) and a 13.76 km underground corridor (via MG Road to Dairy Circle–Nagavara) slated to open by September 2026. \n",
    "Blue Line (Airport Link): Intended to connect Central Silk Board with Kempegowda International Airport via KR Pura and Nagawara. The entire line is expected to be ready by June 2026. \n",
    "Phase 3 Corridors:\n",
    "Orange Line (ORR-West): Kempapura to JP Nagar 4th Phase, approved and expected by 2029. \n",
    "Grey Line (Hosahalli–Kadabagere): Also approved, with a target completion around 2029. \n",
    "Red Line (Hebbal–Sarjapura): Part of Phase 3 projects, with DPR already in progress. \n",
    "Fare Hike Fallout: In early 2025, Namma Metro implemented steep fare increases, some routes witnessing over 100% hikes (later capped at around 71%). Ridership declined and public backlash ensued. \n",
    "Final Thoughts: A Transit Revolution in Motion\n",
    "Bengaluru’s metro network is undergoing a dramatic transformation. The newly opened Yellow Line boosts coverage in southern Bengaluru and offers critical interchange points—network synergies that promise smoother travel. Crowd management innovations like barricades at RV Road and earlier operational flexibility (e.g., August 18 early runs) show how responsive BMRCL is adapting to real-world demands.\n",
    "Yet, challenges remain. Securing funding for infrastructure like flyovers, navigating environmental clearances for Phase 3, and making extensions like Attibele feasible—all require careful planning, sustainable funding, and stakeholder coordination.\n",
    "Looking ahead, integration of upcoming Pink and Blue lines, the completion of Phase 3 corridors (Orange, Grey, Red), and seamless operational integration will define the next frontier. If executed well, Namma Metro can help Bengaluru mitigate congestion, promote equitable mobility, and reinforce its standing as one of India’s most forward-looking urban transit networks.\n",
    "\"\"\""
   ]
  },
  {
   "cell_type": "code",
   "execution_count": 4,
   "id": "c82f2617",
   "metadata": {},
   "outputs": [],
   "source": [
    "# Optional: save dataset to CSV\n",
    "pd.DataFrame({\"text\": [dataset]}).to_csv(\"namma_metro_dataset.csv\", index=False)"
   ]
  },
  {
   "cell_type": "code",
   "execution_count": 5,
   "id": "7b8f397a",
   "metadata": {},
   "outputs": [
    {
     "name": "stdout",
     "output_type": "stream",
     "text": [
      "Cleaned length: 5990\n",
      "Clean data: namma metro expanding horizon navigating challenge heroic averted hebbagodi night august crisis averted newly inaugurated hebbagodi metro station yellow line around pm car stalled beneath elevated station waterlogged hosur road smoke began billowing engine potential fire hazard shivakumar onduty security guard sprang action grabbed fire extinguisher inside station swiftly doused flame likely caused short circuit quick response prevented damage metro infrastructure avoided additional traffic disruption official praised effectiveness routine fire safety training empowering timely action hindustan time incident underscore vulnerability metro infrastructure external hazard highlight preparedness newly operational crucial maintaining safety managing crush barricade rv road station opening yellow line significantly boosted ridership particularly rv road interchange passenger transfer green line head toward electronics city daily interchange volume surged estimated passenger manage resulting crowding bmrcl installed first time measure installed elevated station previously underground majestic interchange currently yellow line service run every minute three train fourth train set expected midseptember assembly reduce headway around minute yellow line extension study attibele connectivity continues priority karnataka government led deputy cm dk shivakumar commissioned feasibility study explore extending yellow line beyond bommasandra attibele spanning km expansion aimed reducing congestion along hosur road supporting proposed infrastructure development including new stadium project attibele study entrusted hyderabadbased rv associate tasked preparing detailed project report dpr evaluates cost benefit technical feasibility phase expansion environmental challenge delay progress meanwhile phase metro expansion encompassing fully elevated network split corridor jp nagar phase kempapura hosahalli kadabagere hit regulatory roadblock environmental impact assessment eia report delayed initial round public stakeholder meeting saw low turnout necessitated additional public consultation pushed back eia final dpr tree impact estimate initial upper bound tree revised count around though final figure remains pending completed eia bmrcl committed tree transplantation sapling replantation though clarity required replantation location critic note proposed replantation area like kolar far impacted zone may align ecological restoration goal time india early morning yellow line boost august manage surge commuter following long independence day weekend bmrcl advanced yellow line train service start august instead regular schedule early service began rv road delta electronics bommasandra station adjustment temporary monday normal timing resumed tuesday thereafter responsiveness signal operational flexibility bmrcl building service planning adapt commuter pattern gamechanger yellow line inaugurated muchanticipated yellow line stretching kilometer rv road bommasandra officially opened public early august prime minister narendra modi inaugurating service constructed cost approximately crore elevated corridor feature station aim support daily commuter economic time line traverse key junction including jayadeva btm layout central silk board bommasandra significantly enhancing connectivity important residential commercial industrial zone introduction yellow line complement existing network route enabling faster seamless interchange contributing overall network efficiency commuter expected enjoy improved convenience travel speed comfort economic time lastmile concern doubledecker flyover funding tussle yellow line massive lift metro connectivity financial hurdle persist bmrcl still awaiting crore reimbursement state government promised back cover cost associated doubledecker flyover ragigudda central silk board km section flyover opened july reimbursement still pending time india state government pushing forward plan another km doubledecker flyover phase crore roughly crore allocated road flyover construction deputy cm dk shivakumar sought crore central funding however urban planner warn flyover might encourage private vehicle usage undermining public transportation goal broader context namma metro glance august namma metro span roughly km serving operational station estimate vary slightly across source transport around average passenger daily data july singleday record rider set august yellow line became operational wikipedia ongoing future line pink line km route kalena agrahara nagawara including km elevated section open march km underground corridor via mg road dairy slated open september blue line airport link intended connect central silk board kempegowda international airport via kr pura nagawara entire line expected ready june phase corridor orange line orrwest kempapura jp nagar phase approved expected grey line also approved target completion around red line part phase project dpr already progress fare hike fallout early namma metro implemented steep fare increase route witnessing hike later capped around ridership declined public backlash ensued final thought transit revolution motion bengaluru metro network undergoing dramatic transformation newly opened yellow line boost coverage southern bengaluru offer critical interchange synergy promise smoother travel crowd management innovation like barricade rv road earlier operational flexibility eg august early run show responsive bmrcl adapting realworld demand yet challenge remain securing funding infrastructure like flyover navigating environmental clearance phase making extension like attibele require careful planning sustainable funding stakeholder coordination looking ahead integration upcoming pink blue line completion phase corridor orange grey red seamless operational integration define next frontier executed well namma metro help bengaluru mitigate congestion promote equitable mobility reinforce standing one india forwardlooking urban transit network\n"
     ]
    }
   ],
   "source": [
    "# -----------------------------\n",
    "# 2) Text cleaning\n",
    "# -----------------------------\n",
    "import nltk\n",
    "nltk.download(\"punkt\", quiet=True)\n",
    "nltk.download(\"stopwords\", quiet=True)\n",
    "nltk.download(\"wordnet\", quiet=True)\n",
    "nltk.download(\"omw-1.4\", quiet=True)\n",
    "\n",
    "from nltk.corpus import stopwords\n",
    "from nltk.stem import WordNetLemmatizer\n",
    "\n",
    "stop_words = set(stopwords.words(\"english\"))\n",
    "lemmatizer = WordNetLemmatizer()\n",
    "\n",
    "def clean_text(\n",
    "    text: str,\n",
    "    lower: bool = True,\n",
    "    remove_punct: bool = True,\n",
    "    remove_stop: bool = True,\n",
    "    lemmatize_tokens: bool = True,\n",
    "    remove_numbers: bool = True,\n",
    "    keep_only_alpha: bool = True\n",
    "):\n",
    "    text = unicodedata.normalize(\"NFKD\", text)\n",
    "    if lower:\n",
    "        text = text.lower()\n",
    "    if remove_punct:\n",
    "        text = text.translate(str.maketrans(\"\", \"\", string.punctuation))\n",
    "    tokens = nltk.word_tokenize(text)\n",
    "\n",
    "    cleaned_tokens: List[str] = []\n",
    "    for token in tokens:\n",
    "        if remove_numbers and token.isdigit():\n",
    "            continue\n",
    "        if keep_only_alpha and not token.isalpha():\n",
    "            continue\n",
    "        if remove_stop and token in stop_words:\n",
    "            continue\n",
    "        if lemmatize_tokens:\n",
    "            token = lemmatizer.lemmatize(token)\n",
    "        cleaned_tokens.append(token)\n",
    "    return \" \".join(cleaned_tokens)\n",
    "\n",
    "cleaned_data = clean_text(dataset)\n",
    "\n",
    "print(f\"Cleaned length: {len(cleaned_data)}\")\n",
    "print(f\"Clean data: {cleaned_data}\")\n",
    "\n"
   ]
  },
  {
   "cell_type": "code",
   "execution_count": 6,
   "id": "2e13da00",
   "metadata": {},
   "outputs": [],
   "source": [
    "# -----------------------------\n",
    "# 3) Chunking\n",
    "# -----------------------------\n",
    "def chunk_text(text: str, max_char: int = 500, overlap: int = 100) -> List[str]:\n",
    "    assert max_char > overlap >= 0, \"max_char must be > overlap >= 0\"\n",
    "    chunks: List[str] = []\n",
    "    i = 0\n",
    "    n = len(text)\n",
    "    while i < n:\n",
    "        piece = text[i : i + max_char]\n",
    "        chunks.append(piece)\n",
    "        i += max_char - overlap\n",
    "    return chunks"
   ]
  },
  {
   "cell_type": "code",
   "execution_count": 7,
   "id": "8197ac01",
   "metadata": {},
   "outputs": [
    {
     "name": "stdout",
     "output_type": "stream",
     "text": [
      "Total chunks created: 15\n",
      "chunk preview: ['namma metro expanding horizon navigating challenge heroic averted hebbagodi night august crisis averted newly inaugurated hebbagodi metro station yellow line around pm car stalled beneath elevated station waterlogged hosur road smoke began billowing engine potential fire hazard shivakumar onduty security guard sprang action grabbed fire extinguisher inside station swiftly doused flame likely caused short circuit quick response prevented damage metro infrastructure avoided additional traffic disr', 'd short circuit quick response prevented damage metro infrastructure avoided additional traffic disruption official praised effectiveness routine fire safety training empowering timely action hindustan time incident underscore vulnerability metro infrastructure external hazard highlight preparedness newly operational crucial maintaining safety managing crush barricade rv road station opening yellow line significantly boosted ridership particularly rv road interchange passenger transfer green lin', 'w line significantly boosted ridership particularly rv road interchange passenger transfer green line head toward electronics city daily interchange volume surged estimated passenger manage resulting crowding bmrcl installed first time measure installed elevated station previously underground majestic interchange currently yellow line service run every minute three train fourth train set expected midseptember assembly reduce headway around minute yellow line extension study attibele connectivity', 'midseptember assembly reduce headway around minute yellow line extension study attibele connectivity continues priority karnataka government led deputy cm dk shivakumar commissioned feasibility study explore extending yellow line beyond bommasandra attibele spanning km expansion aimed reducing congestion along hosur road supporting proposed infrastructure development including new stadium project attibele study entrusted hyderabadbased rv associate tasked preparing detailed project report dpr ev', 'attibele study entrusted hyderabadbased rv associate tasked preparing detailed project report dpr evaluates cost benefit technical feasibility phase expansion environmental challenge delay progress meanwhile phase metro expansion encompassing fully elevated network split corridor jp nagar phase kempapura hosahalli kadabagere hit regulatory roadblock environmental impact assessment eia report delayed initial round public stakeholder meeting saw low turnout necessitated additional public consultat', 'ed initial round public stakeholder meeting saw low turnout necessitated additional public consultation pushed back eia final dpr tree impact estimate initial upper bound tree revised count around though final figure remains pending completed eia bmrcl committed tree transplantation sapling replantation though clarity required replantation location critic note proposed replantation area like kolar far impacted zone may align ecological restoration goal time india early morning yellow line boost ', ' far impacted zone may align ecological restoration goal time india early morning yellow line boost august manage surge commuter following long independence day weekend bmrcl advanced yellow line train service start august instead regular schedule early service began rv road delta electronics bommasandra station adjustment temporary monday normal timing resumed tuesday thereafter responsiveness signal operational flexibility bmrcl building service planning adapt commuter pattern gamechanger yell', 'gnal operational flexibility bmrcl building service planning adapt commuter pattern gamechanger yellow line inaugurated muchanticipated yellow line stretching kilometer rv road bommasandra officially opened public early august prime minister narendra modi inaugurating service constructed cost approximately crore elevated corridor feature station aim support daily commuter economic time line traverse key junction including jayadeva btm layout central silk board bommasandra significantly enhancing', 'se key junction including jayadeva btm layout central silk board bommasandra significantly enhancing connectivity important residential commercial industrial zone introduction yellow line complement existing network route enabling faster seamless interchange contributing overall network efficiency commuter expected enjoy improved convenience travel speed comfort economic time lastmile concern doubledecker flyover funding tussle yellow line massive lift metro connectivity financial hurdle persist', 'ledecker flyover funding tussle yellow line massive lift metro connectivity financial hurdle persist bmrcl still awaiting crore reimbursement state government promised back cover cost associated doubledecker flyover ragigudda central silk board km section flyover opened july reimbursement still pending time india state government pushing forward plan another km doubledecker flyover phase crore roughly crore allocated road flyover construction deputy cm dk shivakumar sought crore central funding ', 'ghly crore allocated road flyover construction deputy cm dk shivakumar sought crore central funding however urban planner warn flyover might encourage private vehicle usage undermining public transportation goal broader context namma metro glance august namma metro span roughly km serving operational station estimate vary slightly across source transport around average passenger daily data july singleday record rider set august yellow line became operational wikipedia ongoing future line pink li', 'ngleday record rider set august yellow line became operational wikipedia ongoing future line pink line km route kalena agrahara nagawara including km elevated section open march km underground corridor via mg road dairy slated open september blue line airport link intended connect central silk board kempegowda international airport via kr pura nagawara entire line expected ready june phase corridor orange line orrwest kempapura jp nagar phase approved expected grey line also approved target comp', 'r orange line orrwest kempapura jp nagar phase approved expected grey line also approved target completion around red line part phase project dpr already progress fare hike fallout early namma metro implemented steep fare increase route witnessing hike later capped around ridership declined public backlash ensued final thought transit revolution motion bengaluru metro network undergoing dramatic transformation newly opened yellow line boost coverage southern bengaluru offer critical interchange ', 'ransformation newly opened yellow line boost coverage southern bengaluru offer critical interchange synergy promise smoother travel crowd management innovation like barricade rv road earlier operational flexibility eg august early run show responsive bmrcl adapting realworld demand yet challenge remain securing funding infrastructure like flyover navigating environmental clearance phase making extension like attibele require careful planning sustainable funding stakeholder coordination looking a', 'ension like attibele require careful planning sustainable funding stakeholder coordination looking ahead integration upcoming pink blue line completion phase corridor orange grey red seamless operational integration define next frontier executed well namma metro help bengaluru mitigate congestion promote equitable mobility reinforce standing one india forwardlooking urban transit network']\n"
     ]
    }
   ],
   "source": [
    "chunks = chunk_text(cleaned_data, max_char=500, overlap=100)\n",
    "print(f\"Total chunks created: {len(chunks)}\")\n",
    "print(f\"chunk preview: {chunks}\")"
   ]
  },
  {
   "cell_type": "code",
   "execution_count": 8,
   "id": "e15b605e",
   "metadata": {},
   "outputs": [],
   "source": [
    "# 4) Embeddings via Euron API\n",
    "#now generate embeddings for each chunk using euron api\n",
    "import requests\n",
    "import numpy as np\n",
    "\n",
    "def generate_embeddings(text):\n",
    "    url = \"https://api.euron.one/api/v1/euri/embeddings\"\n",
    "    headers = {\n",
    "        \"Content-Type\": \"application/json\",\n",
    "        \"Authorization\": f\"Bearer {EURI_API_KEY}\"\n",
    "    }\n",
    "    payload = {\n",
    "        \"input\": text,\n",
    "        \"model\": \"text-embedding-3-small\"\n",
    "    }\n",
    "\n",
    "    response = requests.post(url, headers=headers, json=payload)\n",
    "    data = response.json()\n",
    "    \n",
    "    embedding = np.array(data['data'][0]['embedding'])\n",
    "    \n",
    "    return embedding"
   ]
  },
  {
   "cell_type": "code",
   "execution_count": 9,
   "id": "53a3b5b1",
   "metadata": {},
   "outputs": [],
   "source": [
    "def create_embeddings(all_chunks: List[str]) -> Tuple[List[np.ndarray], List[Dict[str, Any]]]:\n",
    "    emb_list: List[np.ndarray] = []\n",
    "    meta: List[Dict[str, Any]] = []\n",
    "    for idx, chunk in enumerate(all_chunks):\n",
    "        vec = generate_embeddings(chunk)\n",
    "        emb_list.append(vec.astype(\"float32\"))\n",
    "        meta.append({\"id\": idx, \"text\": chunk})\n",
    "    return emb_list, meta\n",
    "\n",
    "emb_list, meta = create_embeddings(chunks)"
   ]
  },
  {
   "cell_type": "code",
   "execution_count": 10,
   "id": "513991b1",
   "metadata": {},
   "outputs": [
    {
     "data": {
      "text/plain": [
       "[array([-0.00054488, -0.00683253,  0.03200348, ..., -0.0087699 ,\n",
       "         0.02067507, -0.00800087], dtype=float32),\n",
       " array([-0.00293541, -0.01590907,  0.02849055, ..., -0.01880883,\n",
       "         0.00452791,  0.0176521 ], dtype=float32),\n",
       " array([-0.01344002, -0.01362632,  0.06988812, ..., -0.00288927,\n",
       "        -0.02620139,  0.0101399 ], dtype=float32),\n",
       " array([ 0.01760913, -0.03226775,  0.077625  , ...,  0.0048415 ,\n",
       "         0.01487321,  0.01163436], dtype=float32),\n",
       " array([ 0.02456949, -0.03474645,  0.06801675, ...,  0.01290218,\n",
       "         0.01477576,  0.01415833], dtype=float32),\n",
       " array([0.04711136, 0.02026819, 0.06898151, ..., 0.01331711, 0.0364131 ,\n",
       "        0.02228805], dtype=float32),\n",
       " array([0.02615949, 0.03281878, 0.07771981, ..., 0.00222503, 0.0112955 ,\n",
       "        0.00251831], dtype=float32),\n",
       " array([ 0.01034963,  0.00972444,  0.07453366, ..., -0.0019877 ,\n",
       "         0.00478067,  0.00283035], dtype=float32),\n",
       " array([ 0.00528324, -0.05408125,  0.06017135, ...,  0.01058752,\n",
       "        -0.00328711,  0.02342024], dtype=float32),\n",
       " array([ 0.04037019, -0.05217807,  0.03720547, ...,  0.03555661,\n",
       "         0.01695388,  0.01897505], dtype=float32),\n",
       " array([ 0.02482798, -0.03843032,  0.01150761, ...,  0.01994026,\n",
       "        -0.01755011,  0.02468027], dtype=float32),\n",
       " array([-0.00474491, -0.02863229,  0.05736879, ...,  0.02054282,\n",
       "        -0.00846724, -0.01481115], dtype=float32),\n",
       " array([-0.01968142, -0.01499045,  0.02768064, ...,  0.018079  ,\n",
       "        -0.01813069, -0.01371109], dtype=float32),\n",
       " array([ 0.00614257, -0.00320482,  0.0586818 , ..., -0.0013701 ,\n",
       "        -0.01712162,  0.00889739], dtype=float32),\n",
       " array([ 0.03611071, -0.03162657,  0.05787811, ...,  0.01203443,\n",
       "        -0.03590284,  0.00284157], dtype=float32)]"
      ]
     },
     "execution_count": 10,
     "metadata": {},
     "output_type": "execute_result"
    }
   ],
   "source": [
    "emb_list"
   ]
  },
  {
   "cell_type": "code",
   "execution_count": 11,
   "id": "8b075acb",
   "metadata": {},
   "outputs": [
    {
     "data": {
      "text/plain": [
       "[{'id': 0,\n",
       "  'text': 'namma metro expanding horizon navigating challenge heroic averted hebbagodi night august crisis averted newly inaugurated hebbagodi metro station yellow line around pm car stalled beneath elevated station waterlogged hosur road smoke began billowing engine potential fire hazard shivakumar onduty security guard sprang action grabbed fire extinguisher inside station swiftly doused flame likely caused short circuit quick response prevented damage metro infrastructure avoided additional traffic disr'},\n",
       " {'id': 1,\n",
       "  'text': 'd short circuit quick response prevented damage metro infrastructure avoided additional traffic disruption official praised effectiveness routine fire safety training empowering timely action hindustan time incident underscore vulnerability metro infrastructure external hazard highlight preparedness newly operational crucial maintaining safety managing crush barricade rv road station opening yellow line significantly boosted ridership particularly rv road interchange passenger transfer green lin'},\n",
       " {'id': 2,\n",
       "  'text': 'w line significantly boosted ridership particularly rv road interchange passenger transfer green line head toward electronics city daily interchange volume surged estimated passenger manage resulting crowding bmrcl installed first time measure installed elevated station previously underground majestic interchange currently yellow line service run every minute three train fourth train set expected midseptember assembly reduce headway around minute yellow line extension study attibele connectivity'},\n",
       " {'id': 3,\n",
       "  'text': 'midseptember assembly reduce headway around minute yellow line extension study attibele connectivity continues priority karnataka government led deputy cm dk shivakumar commissioned feasibility study explore extending yellow line beyond bommasandra attibele spanning km expansion aimed reducing congestion along hosur road supporting proposed infrastructure development including new stadium project attibele study entrusted hyderabadbased rv associate tasked preparing detailed project report dpr ev'},\n",
       " {'id': 4,\n",
       "  'text': 'attibele study entrusted hyderabadbased rv associate tasked preparing detailed project report dpr evaluates cost benefit technical feasibility phase expansion environmental challenge delay progress meanwhile phase metro expansion encompassing fully elevated network split corridor jp nagar phase kempapura hosahalli kadabagere hit regulatory roadblock environmental impact assessment eia report delayed initial round public stakeholder meeting saw low turnout necessitated additional public consultat'},\n",
       " {'id': 5,\n",
       "  'text': 'ed initial round public stakeholder meeting saw low turnout necessitated additional public consultation pushed back eia final dpr tree impact estimate initial upper bound tree revised count around though final figure remains pending completed eia bmrcl committed tree transplantation sapling replantation though clarity required replantation location critic note proposed replantation area like kolar far impacted zone may align ecological restoration goal time india early morning yellow line boost '},\n",
       " {'id': 6,\n",
       "  'text': ' far impacted zone may align ecological restoration goal time india early morning yellow line boost august manage surge commuter following long independence day weekend bmrcl advanced yellow line train service start august instead regular schedule early service began rv road delta electronics bommasandra station adjustment temporary monday normal timing resumed tuesday thereafter responsiveness signal operational flexibility bmrcl building service planning adapt commuter pattern gamechanger yell'},\n",
       " {'id': 7,\n",
       "  'text': 'gnal operational flexibility bmrcl building service planning adapt commuter pattern gamechanger yellow line inaugurated muchanticipated yellow line stretching kilometer rv road bommasandra officially opened public early august prime minister narendra modi inaugurating service constructed cost approximately crore elevated corridor feature station aim support daily commuter economic time line traverse key junction including jayadeva btm layout central silk board bommasandra significantly enhancing'},\n",
       " {'id': 8,\n",
       "  'text': 'se key junction including jayadeva btm layout central silk board bommasandra significantly enhancing connectivity important residential commercial industrial zone introduction yellow line complement existing network route enabling faster seamless interchange contributing overall network efficiency commuter expected enjoy improved convenience travel speed comfort economic time lastmile concern doubledecker flyover funding tussle yellow line massive lift metro connectivity financial hurdle persist'},\n",
       " {'id': 9,\n",
       "  'text': 'ledecker flyover funding tussle yellow line massive lift metro connectivity financial hurdle persist bmrcl still awaiting crore reimbursement state government promised back cover cost associated doubledecker flyover ragigudda central silk board km section flyover opened july reimbursement still pending time india state government pushing forward plan another km doubledecker flyover phase crore roughly crore allocated road flyover construction deputy cm dk shivakumar sought crore central funding '},\n",
       " {'id': 10,\n",
       "  'text': 'ghly crore allocated road flyover construction deputy cm dk shivakumar sought crore central funding however urban planner warn flyover might encourage private vehicle usage undermining public transportation goal broader context namma metro glance august namma metro span roughly km serving operational station estimate vary slightly across source transport around average passenger daily data july singleday record rider set august yellow line became operational wikipedia ongoing future line pink li'},\n",
       " {'id': 11,\n",
       "  'text': 'ngleday record rider set august yellow line became operational wikipedia ongoing future line pink line km route kalena agrahara nagawara including km elevated section open march km underground corridor via mg road dairy slated open september blue line airport link intended connect central silk board kempegowda international airport via kr pura nagawara entire line expected ready june phase corridor orange line orrwest kempapura jp nagar phase approved expected grey line also approved target comp'},\n",
       " {'id': 12,\n",
       "  'text': 'r orange line orrwest kempapura jp nagar phase approved expected grey line also approved target completion around red line part phase project dpr already progress fare hike fallout early namma metro implemented steep fare increase route witnessing hike later capped around ridership declined public backlash ensued final thought transit revolution motion bengaluru metro network undergoing dramatic transformation newly opened yellow line boost coverage southern bengaluru offer critical interchange '},\n",
       " {'id': 13,\n",
       "  'text': 'ransformation newly opened yellow line boost coverage southern bengaluru offer critical interchange synergy promise smoother travel crowd management innovation like barricade rv road earlier operational flexibility eg august early run show responsive bmrcl adapting realworld demand yet challenge remain securing funding infrastructure like flyover navigating environmental clearance phase making extension like attibele require careful planning sustainable funding stakeholder coordination looking a'},\n",
       " {'id': 14,\n",
       "  'text': 'ension like attibele require careful planning sustainable funding stakeholder coordination looking ahead integration upcoming pink blue line completion phase corridor orange grey red seamless operational integration define next frontier executed well namma metro help bengaluru mitigate congestion promote equitable mobility reinforce standing one india forwardlooking urban transit network'}]"
      ]
     },
     "execution_count": 11,
     "metadata": {},
     "output_type": "execute_result"
    }
   ],
   "source": [
    "meta"
   ]
  },
  {
   "cell_type": "code",
   "execution_count": 12,
   "id": "1e794d20",
   "metadata": {},
   "outputs": [],
   "source": [
    "# 5) FAISS index save/load (cosine via IP)\n",
    "# -----------------------------\n",
    "import faiss\n",
    "\n",
    "def save_faiss_index(\n",
    "    emb_list: List[np.ndarray],\n",
    "    meta: List[Dict[str, Any]],\n",
    "    index_path: str = \"index_vecass1.faiss\",\n",
    "    meta_path: str = \"meta_vecass1.jsonl\"\n",
    ") -> None:\n",
    "    xb = np.vstack(emb_list).astype(\"float32\")\n",
    "    faiss.normalize_L2(xb)\n",
    "    dim = xb.shape[1]\n",
    "    index = faiss.IndexFlatIP(dim)\n",
    "    index.add(xb)\n",
    "    faiss.write_index(index, index_path)\n",
    "\n",
    "    with open(meta_path, \"w\", encoding=\"utf-8\") as f:\n",
    "        for item in meta:\n",
    "            f.write(json.dumps(item, ensure_ascii=False) + \"\\n\")\n",
    "\n",
    "    print(f\"FAISS index saved -> {index_path}\")\n",
    "    print(f\"Metadata saved   -> {meta_path} (records: {len(meta)})\")"
   ]
  },
  {
   "cell_type": "code",
   "execution_count": 13,
   "id": "2d9b82d4",
   "metadata": {},
   "outputs": [
    {
     "name": "stdout",
     "output_type": "stream",
     "text": [
      "FAISS index saved -> index_vecass1.faiss\n",
      "Metadata saved   -> meta_vecass1.jsonl (records: 15)\n"
     ]
    }
   ],
   "source": [
    "save_faiss_index(emb_list, meta, \"index_vecass1.faiss\", \"meta_vecass1.jsonl\")"
   ]
  },
  {
   "cell_type": "code",
   "execution_count": null,
   "id": "291b4fb6",
   "metadata": {},
   "outputs": [
    {
     "name": "stdout",
     "output_type": "stream",
     "text": [
      "Loaded index: index_vecass1.faiss | metadata records: 15\n"
     ]
    }
   ],
   "source": [
    "# Load FAISS index and metadata\n",
    "from typing import Tuple, List, Dict, Any\n",
    "\n",
    "def load_faiss_index(index_path: str, meta_path: str):\n",
    "    index = faiss.read_index(index_path)\n",
    "    meta_list: List[Dict[str, Any]] = []\n",
    "    with open(meta_path, \"r\", encoding=\"utf-8\") as f:\n",
    "        for line in f:\n",
    "            meta_list.append(json.loads(line))\n",
    "    print(f\"Loaded index: {index_path} | metadata records: {len(meta_list)}\")\n",
    "    return index, meta_list\n",
    "\n",
    "\n"
   ]
  },
  {
   "cell_type": "code",
   "execution_count": 25,
   "id": "a64999ff",
   "metadata": {},
   "outputs": [
    {
     "name": "stdout",
     "output_type": "stream",
     "text": [
      "Loaded index: index_vecass1.faiss | metadata records: 15\n"
     ]
    }
   ],
   "source": [
    "index, meta = load_faiss_index(\"index_vecass1.faiss\", \"meta_vecass1.jsonl\")"
   ]
  },
  {
   "cell_type": "code",
   "execution_count": 26,
   "id": "7494e414",
   "metadata": {},
   "outputs": [
    {
     "data": {
      "text/plain": [
       "<faiss.swigfaiss_avx2.IndexFlatIP; proxy of <Swig Object of type 'faiss::IndexFlatIP *' at 0x0000020A50FF2220> >"
      ]
     },
     "execution_count": 26,
     "metadata": {},
     "output_type": "execute_result"
    }
   ],
   "source": [
    "index"
   ]
  },
  {
   "cell_type": "code",
   "execution_count": 27,
   "id": "7b1c0a00",
   "metadata": {},
   "outputs": [
    {
     "data": {
      "text/plain": [
       "[{'id': 0,\n",
       "  'text': 'namma metro expanding horizon navigating challenge heroic averted hebbagodi night august crisis averted newly inaugurated hebbagodi metro station yellow line around pm car stalled beneath elevated station waterlogged hosur road smoke began billowing engine potential fire hazard shivakumar onduty security guard sprang action grabbed fire extinguisher inside station swiftly doused flame likely caused short circuit quick response prevented damage metro infrastructure avoided additional traffic disr'},\n",
       " {'id': 1,\n",
       "  'text': 'd short circuit quick response prevented damage metro infrastructure avoided additional traffic disruption official praised effectiveness routine fire safety training empowering timely action hindustan time incident underscore vulnerability metro infrastructure external hazard highlight preparedness newly operational crucial maintaining safety managing crush barricade rv road station opening yellow line significantly boosted ridership particularly rv road interchange passenger transfer green lin'},\n",
       " {'id': 2,\n",
       "  'text': 'w line significantly boosted ridership particularly rv road interchange passenger transfer green line head toward electronics city daily interchange volume surged estimated passenger manage resulting crowding bmrcl installed first time measure installed elevated station previously underground majestic interchange currently yellow line service run every minute three train fourth train set expected midseptember assembly reduce headway around minute yellow line extension study attibele connectivity'},\n",
       " {'id': 3,\n",
       "  'text': 'midseptember assembly reduce headway around minute yellow line extension study attibele connectivity continues priority karnataka government led deputy cm dk shivakumar commissioned feasibility study explore extending yellow line beyond bommasandra attibele spanning km expansion aimed reducing congestion along hosur road supporting proposed infrastructure development including new stadium project attibele study entrusted hyderabadbased rv associate tasked preparing detailed project report dpr ev'},\n",
       " {'id': 4,\n",
       "  'text': 'attibele study entrusted hyderabadbased rv associate tasked preparing detailed project report dpr evaluates cost benefit technical feasibility phase expansion environmental challenge delay progress meanwhile phase metro expansion encompassing fully elevated network split corridor jp nagar phase kempapura hosahalli kadabagere hit regulatory roadblock environmental impact assessment eia report delayed initial round public stakeholder meeting saw low turnout necessitated additional public consultat'},\n",
       " {'id': 5,\n",
       "  'text': 'ed initial round public stakeholder meeting saw low turnout necessitated additional public consultation pushed back eia final dpr tree impact estimate initial upper bound tree revised count around though final figure remains pending completed eia bmrcl committed tree transplantation sapling replantation though clarity required replantation location critic note proposed replantation area like kolar far impacted zone may align ecological restoration goal time india early morning yellow line boost '},\n",
       " {'id': 6,\n",
       "  'text': ' far impacted zone may align ecological restoration goal time india early morning yellow line boost august manage surge commuter following long independence day weekend bmrcl advanced yellow line train service start august instead regular schedule early service began rv road delta electronics bommasandra station adjustment temporary monday normal timing resumed tuesday thereafter responsiveness signal operational flexibility bmrcl building service planning adapt commuter pattern gamechanger yell'},\n",
       " {'id': 7,\n",
       "  'text': 'gnal operational flexibility bmrcl building service planning adapt commuter pattern gamechanger yellow line inaugurated muchanticipated yellow line stretching kilometer rv road bommasandra officially opened public early august prime minister narendra modi inaugurating service constructed cost approximately crore elevated corridor feature station aim support daily commuter economic time line traverse key junction including jayadeva btm layout central silk board bommasandra significantly enhancing'},\n",
       " {'id': 8,\n",
       "  'text': 'se key junction including jayadeva btm layout central silk board bommasandra significantly enhancing connectivity important residential commercial industrial zone introduction yellow line complement existing network route enabling faster seamless interchange contributing overall network efficiency commuter expected enjoy improved convenience travel speed comfort economic time lastmile concern doubledecker flyover funding tussle yellow line massive lift metro connectivity financial hurdle persist'},\n",
       " {'id': 9,\n",
       "  'text': 'ledecker flyover funding tussle yellow line massive lift metro connectivity financial hurdle persist bmrcl still awaiting crore reimbursement state government promised back cover cost associated doubledecker flyover ragigudda central silk board km section flyover opened july reimbursement still pending time india state government pushing forward plan another km doubledecker flyover phase crore roughly crore allocated road flyover construction deputy cm dk shivakumar sought crore central funding '},\n",
       " {'id': 10,\n",
       "  'text': 'ghly crore allocated road flyover construction deputy cm dk shivakumar sought crore central funding however urban planner warn flyover might encourage private vehicle usage undermining public transportation goal broader context namma metro glance august namma metro span roughly km serving operational station estimate vary slightly across source transport around average passenger daily data july singleday record rider set august yellow line became operational wikipedia ongoing future line pink li'},\n",
       " {'id': 11,\n",
       "  'text': 'ngleday record rider set august yellow line became operational wikipedia ongoing future line pink line km route kalena agrahara nagawara including km elevated section open march km underground corridor via mg road dairy slated open september blue line airport link intended connect central silk board kempegowda international airport via kr pura nagawara entire line expected ready june phase corridor orange line orrwest kempapura jp nagar phase approved expected grey line also approved target comp'},\n",
       " {'id': 12,\n",
       "  'text': 'r orange line orrwest kempapura jp nagar phase approved expected grey line also approved target completion around red line part phase project dpr already progress fare hike fallout early namma metro implemented steep fare increase route witnessing hike later capped around ridership declined public backlash ensued final thought transit revolution motion bengaluru metro network undergoing dramatic transformation newly opened yellow line boost coverage southern bengaluru offer critical interchange '},\n",
       " {'id': 13,\n",
       "  'text': 'ransformation newly opened yellow line boost coverage southern bengaluru offer critical interchange synergy promise smoother travel crowd management innovation like barricade rv road earlier operational flexibility eg august early run show responsive bmrcl adapting realworld demand yet challenge remain securing funding infrastructure like flyover navigating environmental clearance phase making extension like attibele require careful planning sustainable funding stakeholder coordination looking a'},\n",
       " {'id': 14,\n",
       "  'text': 'ension like attibele require careful planning sustainable funding stakeholder coordination looking ahead integration upcoming pink blue line completion phase corridor orange grey red seamless operational integration define next frontier executed well namma metro help bengaluru mitigate congestion promote equitable mobility reinforce standing one india forwardlooking urban transit network'}]"
      ]
     },
     "execution_count": 27,
     "metadata": {},
     "output_type": "execute_result"
    }
   ],
   "source": [
    "meta"
   ]
  },
  {
   "cell_type": "code",
   "execution_count": 29,
   "id": "218ddd94",
   "metadata": {},
   "outputs": [],
   "source": [
    "# 6) Search + threshold logic\n",
    "# -----------------------------\n",
    "THRESHOLD = 0.50  # 50%\n",
    "\n",
    "def search_faiss(index: faiss.IndexFlatIP, query: str, top_k: int = 6):\n",
    "    q = generate_embeddings(query).reshape(1, -1).astype(\"float32\")\n",
    "    faiss.normalize_L2(q)\n",
    "    scores, idxs = index.search(q, top_k)\n",
    "    return scores, idxs"
   ]
  },
  {
   "cell_type": "code",
   "execution_count": 30,
   "id": "4512e1fb",
   "metadata": {},
   "outputs": [],
   "source": [
    "def results_to_paragraph(\n",
    "    data_output: Tuple[np.ndarray, np.ndarray],\n",
    "    meta: List[Dict[str, Any]],\n",
    "    threshold: float = THRESHOLD\n",
    "):\n",
    "    scores, idxs = data_output\n",
    "    scores = np.asarray(scores).ravel().astype(float)\n",
    "    idxs = np.asarray(idxs).ravel().astype(int)\n",
    "\n",
    "    meta_by_id = {int(m[\"id\"]): m[\"text\"] for m in meta}\n",
    "\n",
    "    selected: List[str] = []\n",
    "    for i, s in zip(idxs, scores):\n",
    "        if s >= threshold and i in meta_by_id:\n",
    "            selected.append(meta_by_id[i])\n",
    "\n",
    "    # Custom message per your requirement:\n",
    "    if not selected:\n",
    "        return \"I am not trend on given data\"\n",
    "\n",
    "    return \" \".join(selected)"
   ]
  },
  {
   "cell_type": "code",
   "execution_count": 31,
   "id": "a4ffb60e",
   "metadata": {},
   "outputs": [],
   "source": [
    "def retrieve_context(\n",
    "    data_output: Tuple[np.ndarray, np.ndarray],\n",
    "    meta: List[Dict[str, Any]],\n",
    "    top_n: int = 3,\n",
    "    threshold: float = THRESHOLD\n",
    "):\n",
    "    scores, idxs = data_output\n",
    "    scores = np.asarray(scores).ravel().astype(float)\n",
    "    idxs = np.asarray(idxs).ravel().astype(int)\n",
    "\n",
    "    meta_by_id = {int(m[\"id\"]): m[\"text\"] for m in meta}\n",
    "\n",
    "    pairs = [(i, s) for i, s in zip(idxs, scores) if s >= threshold and i in meta_by_id]\n",
    "    pairs = pairs[:top_n]\n",
    "\n",
    "    return [(meta_by_id[i], float(s)) for i, s in pairs]"
   ]
  },
  {
   "cell_type": "code",
   "execution_count": 32,
   "id": "edfbf66a",
   "metadata": {},
   "outputs": [],
   "source": [
    "\n",
    "# 7) Prompt + completion (only if threshold passed)\n",
    "\n",
    "def generate_completion(prompt, model=\"gpt-4.1-nano\"):\n",
    "    url = \"https://api.euron.one/api/v1/euri/chat/completions\"\n",
    "    headers = {\n",
    "        \"Authorization\": f\"Bearer {EURI_API_KEY}\",\n",
    "        \"Content-Type\": \"application/json\"\n",
    "    }\n",
    "    payload = {\n",
    "        \"model\": model,\n",
    "        \"messages\": [{\"role\": \"user\", \"content\": prompt}],\n",
    "        \"max_tokens\": 500,\n",
    "        \"temperature\": 0.3\n",
    "    }\n",
    "    response = requests.post(url, headers=headers, json=payload)\n",
    "    return response.json()['choices'][0]['message']['content']\n",
    "\t\n",
    "\t\n"
   ]
  },
  {
   "cell_type": "code",
   "execution_count": 33,
   "id": "fd676431",
   "metadata": {},
   "outputs": [],
   "source": [
    "def build_prompt(query: str, context_chunks: List[Tuple[str, float]]) -> str:\n",
    "    context_texts = \"\\n\\n\".join([c[0] for c in context_chunks])\n",
    "    prompt = f\"\"\"You are a helpful assistant. \n",
    "Here is some context from the knowledge base:\n",
    "\n",
    "{context_texts}\n",
    "\n",
    "Based on the above, answer this question:\n",
    "\n",
    "{query}\n",
    "\"\"\"\n",
    "    return prompt"
   ]
  },
  {
   "cell_type": "code",
   "execution_count": 36,
   "id": "d75792a8",
   "metadata": {},
   "outputs": [
    {
     "name": "stdout",
     "output_type": "stream",
     "text": [
      "\n",
      "--- Thresholded Paragraph or Message ---\n",
      " ledecker flyover funding tussle yellow line massive lift metro connectivity financial hurdle persist bmrcl still awaiting crore reimbursement state government promised back cover cost associated doubledecker flyover ragigudda central silk board km section flyover opened july reimbursement still pending time india state government pushing forward plan another km doubledecker flyover phase crore roughly crore allocated road flyover construction deputy cm dk shivakumar sought crore central funding  ghly crore allocated road flyover construction deputy cm dk shivakumar sought crore central funding however urban planner warn flyover might encourage private vehicle usage undermining public transportation goal broader context namma metro glance august namma metro span roughly km serving operational station estimate vary slightly across source transport around average passenger daily data july singleday record rider set august yellow line became operational wikipedia ongoing future line pink li \n",
      "\n",
      "\n",
      "--- Prompt Sent to Model ---\n",
      " You are a helpful assistant. \n",
      "Here is some context from the knowledge base:\n",
      "\n",
      "ledecker flyover funding tussle yellow line massive lift metro connectivity financial hurdle persist bmrcl still awaiting crore reimbursement state government promised back cover cost associated doubledecker flyover ragigudda central silk board km section flyover opened july reimbursement still pending time india state government pushing forward plan another km doubledecker flyover phase crore roughly crore allocated road flyover construction deputy cm dk shivakumar sought crore central funding \n",
      "\n",
      "ghly crore allocated road flyover construction deputy cm dk shivakumar sought crore central funding however urban planner warn flyover might encourage private vehicle usage undermining public transportation goal broader context namma metro glance august namma metro span roughly km serving operational station estimate vary slightly across source transport around average passenger daily data july singleday record rider set august yellow line became operational wikipedia ongoing future line pink li\n",
      "\n",
      "Based on the above, answer this question:\n",
      "\n",
      "double-decker flyovers under Phase 3—budgeted\n",
      " \n",
      "\n",
      "--- Model Answer ---\n",
      " The provided context indicates that there are plans for double-decker flyovers, including a specific mention of a second phase. Deputy CM DK Shivakumar has sought central funding for these projects, with roughly crore allocated for road flyover construction. However, the exact budgeted amount for the double-decker flyovers under Phase 3 is not explicitly specified in the provided information. \n",
      "\n",
      "Therefore, based on the available data, the budgeted amount for double-decker flyovers under Phase 3 remains unspecified.\n"
     ]
    }
   ],
   "source": [
    "# 8) Demo run\n",
    "# -----------------------------\n",
    "query = \"double-decker flyovers under Phase 3—budgeted\"\n",
    "\n",
    "data_output = search_faiss(index, query, top_k=6)\n",
    "\n",
    "# First, check the thresholded paragraph:\n",
    "paragraph = results_to_paragraph(data_output, meta, threshold=THRESHOLD)\n",
    "print(\"\\n--- Thresholded Paragraph or Message ---\\n\", paragraph, \"\\n\")\n",
    "if paragraph.strip() == \"I am not trend on given data\":\n",
    "    # Nothing passed the 50% threshold; stop here as requested.\n",
    "    pass\n",
    "else:\n",
    "    # We have relevant context; proceed to build a prompt and call the model.\n",
    "    context_chunks = retrieve_context(data_output, meta, top_n=3, threshold=THRESHOLD)\n",
    "    # Safety: if, for some reason, context_chunks is empty, also show the same message.\n",
    "    if not context_chunks:\n",
    "        print(\"I am not trend on given data\")\n",
    "    else:\n",
    "        prompt = build_prompt(query, context_chunks)\n",
    "        print(\"\\n--- Prompt Sent to Model ---\\n\", prompt, \"\\n\")\n",
    "        answer = generate_completion(prompt)\n",
    "        print(\"--- Model Answer ---\\n\", answer)"
   ]
  },
  {
   "cell_type": "code",
   "execution_count": null,
   "id": "bb11af3b",
   "metadata": {},
   "outputs": [],
   "source": []
  },
  {
   "cell_type": "code",
   "execution_count": 39,
   "id": "74436cff",
   "metadata": {},
   "outputs": [
    {
     "data": {
      "text/plain": [
       "'1. A Heroic Moment—Fire Averted at Hebbagodi\\n\\nOn the night of August 23, 2025, a crisis was averted at the newly inaugurated Hebbagodi Metro station on the Yellow Line. Around 11:50 PM, a car stalled beneath the elevated station on the waterlogged Hosur Road. Smoke began billowing from the engine bay—a potential fire hazard. That’s when Shivakumar, the on-duty security guard, sprang into action. He grabbed a fire extinguisher from inside the station and swiftly doused the flames, likely caused by a short circuit. His quick response prevented damage to metro infrastructure and avoided additional traffic disruption. Officials praised the effectiveness of routine fire safety training in empowering such timely action. \\nHindustan Times\\nThis incident underscores the vulnerability of metro infrastructure to external hazards and highlights how preparedness and vigilance—especially at newly operational stations—are crucial in maintaining safety.\\n\\n2. Managing Crush: Barricades at RV Road Station\\n\\nThe opening of the Yellow Line has significantly boosted ridership, particularly at RV Road interchange, where passengers transfer to the Green Line or head toward Electronics City. The daily interchange volume has surged to an estimated 30,000–35,000 passengers. To manage the resulting crowding, BMRCL has installed barricades—marking the first time such measures have been installed on an elevated station (previously only at the underground Majestic interchange). \\nCurrently, Yellow Line services run every 25 minutes with three trains, but a fourth train set is expected by mid-September after assembly and testing—anticipated to reduce headways to around 20 minutes. \\n3. Yellow Line Extension Study to Attibele\\n\\nConnectivity continues to be a priority. The Karnataka government, led by Deputy CM D.K. Shivakumar, has commissioned a feasibility study to explore extending the Yellow Line beyond Bommasandra to Attibele, spanning over 10 km. This expansion is aimed at reducing congestion along Hosur Road and supporting proposed infrastructure developments, including a new stadium project in Attibele. \\nThe study has been entrusted to Hyderabad-based RV Associates, tasked with preparing a Detailed Project Report (DPR) that evaluates costs, benefits, and technical feasibility. \\n4. Phase 3 Expansion: Environmental Challenges Delay Progress\\nMeanwhile, Phase 3 of the metro expansion, encompassing a 44-km fully elevated network split between corridors from JP Nagar 4th Phase to Kempapura and Hosahalli to Kadabagere, has hit a regulatory roadblock. The Environmental Impact Assessment (EIA) report has been delayed, as the initial round of public stakeholder meetings saw low turnout. This necessitated additional public consultation and pushed back both the EIA and the final DPR. \\nTree impact estimates have shifted—from an initial upper bound of 11,000 trees to a revised count of around 6,000, though the final figure remains pending the completed EIA. The BMRCL has committed to tree transplantation or sapling replantation, though clarity is required about replantation locations. Critics note that proposed replantation in areas like Kolar, far from impacted zones, may not align with ecological restoration goals. \\nThe Times of India\\n5. Early Morning Yellow Line Boost on August 18\\n\\nTo manage the surge of commuters following a long Independence Day weekend, BMRCL advanced Yellow Line train services to start at 5 AM on August 18, instead of the regular 6:30 AM schedule. The early service began from both RV Road and Delta Electronics Bommasandra stations. This adjustment was temporary for that Monday; normal timings resumed by Tuesday thereafter. \\nSuch responsiveness signals the operational flexibility BMRCL is building into its service planning to adapt to commuter patterns.\\n6. A Game-Changer: Yellow Line Inaugurated\\nThe much-anticipated Yellow Line, stretching 19.15 kilometers between RV Road and Bommasandra, officially opened to the public in early August 2025, with Prime Minister Narendra Modi inaugurating the service. \\nConstructed at a cost of approximately ₹7,160–7,610 crore, this elevated corridor features 16 stations and aims to support up to 800,000 daily commuters. \\nThe Economic Times\\n The line traverses key junctions including Jayadeva, BTM Layout, Central Silk Board, and Bommasandra, significantly enhancing connectivity to important residential, commercial, and industrial zones. \\nThe introduction of the Yellow Line complements existing network routes, enabling faster, more seamless interchanges and contributing to overall network efficiency. Commuters are expected to enjoy improved convenience, travel speed, and comfort. \\nThe Economic Times\\n7. Last-Mile Concerns: Double-Decker Flyover Funding Tussle\\nWhile the Yellow Line has been a massive lift for metro connectivity, financial hurdles persist. BMRCL is still awaiting ₹450 crore in reimbursement from the state government, promised back in 2017–18, to cover costs associated with a double-decker flyover between Ragigudda and Central Silk Board. A 5 km section of this flyover opened in July 2024, but the reimbursement is still pending. \\nThe Times of India\\nThe state government is now pushing forward with plans for another 45 km of double-decker flyovers under Phase 3—budgeted at ₹15,611 crore, with roughly ₹9,000 crore allocated for road flyover construction. Deputy CM D.K. Shivakumar has sought ₹8,916 crore in central funding. However, urban planners warn that such flyovers might encourage private vehicle usage, undermining public transportation goals. \\nBroader Context: Namma Metro at a Glance\\nAs of August 2025, Namma Metro spans roughly 96 km, serving 83–85 operational stations (estimates vary slightly across sources). It transports around 762,361 average passengers daily (data from July 2024), with a single-day record of 1,048,031 riders set on August 11, 2025, just after Yellow Line became operational. \\nWikipedia\\nOngoing and Future Lines\\nPink Line: A 21.25 km route from Kalena Agrahara to Nagawara, including a 7.5 km elevated section (to open by March 2026) and a 13.76 km underground corridor (via MG Road to Dairy Circle–Nagavara) slated to open by September 2026. \\nBlue Line (Airport Link): Intended to connect Central Silk Board with Kempegowda International Airport via KR Pura and Nagawara. The entire line is expected to be ready by June 2026. \\nPhase 3 Corridors:\\nOrange Line (ORR-West): Kempapura to JP Nagar 4th Phase, approved and expected by 2029. \\nGrey Line (Hosahalli–Kadabagere): Also approved, with a target completion around 2029. \\nRed Line (Hebbal–Sarjapura): Part of Phase 3 projects, with DPR already in progress. \\nFare Hike Fallout: In early 2025, Namma Metro implemented steep fare increases, some routes witnessing over 100% hikes (later capped at around 71%). Ridership declined and public backlash ensued. \\nFinal Thoughts: A Transit Revolution in Motion\\nBengaluru’s metro network is undergoing a dramatic transformation. The newly opened Yellow Line boosts coverage in southern Bengaluru and offers critical interchange points—network synergies that promise smoother travel. Crowd management innovations like barricades at RV Road and earlier operational flexibility (e.g., August 18 early runs) show how responsive BMRCL is adapting to real-world demands.\\nYet, challenges remain. Securing funding for infrastructure like flyovers, navigating environmental clearances for Phase 3, and making extensions like Attibele feasible—all require careful planning, sustainable funding, and stakeholder coordination.\\nLooking ahead, integration of upcoming Pink and Blue lines, the completion of Phase 3 corridors (Orange, Grey, Red), and seamless operational integration will define the next frontier. If executed well, Namma Metro can help Bengaluru mitigate congestion, promote equitable mobility, and reinforce its standing as one of India’s most forward-looking urban transit networks.'"
      ]
     },
     "execution_count": 39,
     "metadata": {},
     "output_type": "execute_result"
    }
   ],
   "source": [
    "content"
   ]
  },
  {
   "cell_type": "code",
   "execution_count": 37,
   "id": "f3a73eab",
   "metadata": {},
   "outputs": [
    {
     "name": "stdout",
     "output_type": "stream",
     "text": [
      "c:\\Data Science\\Assignments\\Final\n"
     ]
    }
   ],
   "source": [
    "print(os.getcwd())"
   ]
  }
 ],
 "metadata": {
  "kernelspec": {
   "display_name": "vec_ass",
   "language": "python",
   "name": "python3"
  },
  "language_info": {
   "codemirror_mode": {
    "name": "ipython",
    "version": 3
   },
   "file_extension": ".py",
   "mimetype": "text/x-python",
   "name": "python",
   "nbconvert_exporter": "python",
   "pygments_lexer": "ipython3",
   "version": "3.11.13"
  }
 },
 "nbformat": 4,
 "nbformat_minor": 5
}
